{
  "cells": [
    {
      "cell_type": "markdown",
      "metadata": {
        "id": "view-in-github",
        "colab_type": "text"
      },
      "source": [
        "<a href=\"https://colab.research.google.com/github/bala1802/ERA_Session17/blob/main/S17_BERT.ipynb\" target=\"_parent\"><img src=\"https://colab.research.google.com/assets/colab-badge.svg\" alt=\"Open In Colab\"/></a>"
      ]
    },
    {
      "cell_type": "code",
      "execution_count": 1,
      "metadata": {
        "colab": {
          "base_uri": "https://localhost:8080/"
        },
        "id": "TJPajLWVx02R",
        "outputId": "8d9eb988-a8e4-4546-d664-3b834d7eb177"
      },
      "outputs": [
        {
          "output_type": "stream",
          "name": "stdout",
          "text": [
            "Mounted at /content/drive\n"
          ]
        }
      ],
      "source": [
        "from google.colab import drive\n",
        "drive.mount('/content/drive')"
      ]
    },
    {
      "cell_type": "code",
      "execution_count": 2,
      "metadata": {
        "colab": {
          "base_uri": "https://localhost:8080/"
        },
        "id": "VQ2zHeVNx12K",
        "outputId": "5ab5ffab-864a-4377-d671-ddc49723a904"
      },
      "outputs": [
        {
          "output_type": "stream",
          "name": "stdout",
          "text": [
            "/content/drive/MyDrive/Session-17\n"
          ]
        }
      ],
      "source": [
        "cd /content/drive/MyDrive/Session-17"
      ]
    },
    {
      "cell_type": "code",
      "execution_count": 3,
      "metadata": {
        "id": "8qDDdQcux_lV"
      },
      "outputs": [],
      "source": [
        "!pip install torchinfo --q"
      ]
    },
    {
      "cell_type": "code",
      "execution_count": 4,
      "metadata": {
        "id": "rThBT4M2yN43"
      },
      "outputs": [],
      "source": [
        "from torch.utils.data import Dataset\n",
        "import torch.nn.functional as F\n",
        "import transformer\n",
        "import re\n",
        "from os.path import exists\n",
        "from collections import Counter\n",
        "import random\n",
        "import torch\n",
        "from torchinfo import summary\n",
        "from tqdm.auto import tqdm\n",
        "import numpy as np"
      ]
    },
    {
      "cell_type": "code",
      "execution_count": 5,
      "metadata": {
        "id": "TsdRq1yXyQtJ"
      },
      "outputs": [],
      "source": [
        "n_vocab = 40000\n",
        "seq_len = 20\n",
        "p_random_mask = 0.15\n",
        "batch_size = 16\n",
        "n_iterations = 20\n",
        "epochs = 2\n",
        "device = \"cuda\" if torch.cuda.is_available() else \"cpu\""
      ]
    },
    {
      "cell_type": "code",
      "execution_count": 6,
      "metadata": {
        "id": "YeVZPYLAyUuR"
      },
      "outputs": [],
      "source": [
        "data_pth = 'data/training.txt'\n",
        "sentences = open(data_pth).read().lower().split('\\n')\n",
        "special_chars = '?;.:/*!+-()[]{}\"\\'&'\n",
        "sentences = [re.sub(f'[{re.escape(special_chars)}]','\\g<0> ',s).split(' ') for s in sentences]\n",
        "sentences = [[w for w in s if len(w)] for s in sentences]"
      ]
    },
    {
      "cell_type": "code",
      "execution_count": 7,
      "metadata": {
        "id": "FWIvXOg5yboK"
      },
      "outputs": [],
      "source": [
        "# create vocab\n",
        "vocab_pth = 'sentences_data/vocab.txt'\n",
        "if not exists(vocab_pth):\n",
        "  words = [w for s in sentences for w in s]\n",
        "  vocab = Counter(words).most_common(n_vocab)\n",
        "  vocab = [w[0] for w in vocab]\n",
        "else:\n",
        "  vocab = open(vocab_pth).read().split('\\n')"
      ]
    },
    {
      "cell_type": "code",
      "execution_count": 8,
      "metadata": {
        "id": "WEeamhtsyjab"
      },
      "outputs": [],
      "source": [
        "class SentenceDataset(Dataset):\n",
        "  def __init__(self,sentences,vocab,seq_len):\n",
        "    dataset = self\n",
        "    dataset.sentences = sentences\n",
        "    dataset.vocab = vocab + ['<ignore>','<oov>','<mask>']\n",
        "    dataset.vocab = {e:i for i,e in enumerate(dataset.vocab)}\n",
        "    dataset.rvocab = {v:k for k,v in dataset.vocab.items()}\n",
        "\n",
        "    dataset.seq_len = seq_len\n",
        "\n",
        "    dataset.IGNORE_IDX = dataset.vocab['<ignore>']\n",
        "    dataset.OUT_OF_VOCAB_IDX = dataset.vocab['<oov>']\n",
        "    dataset.MASK_IDX = dataset.vocab['<mask>']\n",
        "\n",
        "  def __getitem__(self,index,p_random_mask=0.15):\n",
        "    dataset = self\n",
        "\n",
        "    s = []\n",
        "    while len(s) < dataset.seq_len:\n",
        "      s.extend(dataset.get_sentence_idx(index % len(dataset)))\n",
        "      index += 1\n",
        "\n",
        "    s = s[:dataset.seq_len]\n",
        "    [s.append(dataset.IGNORE_IDX) for i in range(dataset.seq_len - len(s))]\n",
        "    s = [(dataset.MASK_IDX,w) if random.random() < p_random_mask else (w,dataset.IGNORE_IDX) for w in s]\n",
        "\n",
        "    return {'input': torch.Tensor([w[0] for w in s]).long(),\n",
        "            'target':torch.Tensor([w[1] for w in s]).long()}\n",
        "\n",
        "  def __len__(self):\n",
        "    return len(self.sentences)\n",
        "\n",
        "  def get_sentence_idx(self,index):\n",
        "    dataset = self\n",
        "    s = dataset.sentences[index]\n",
        "    s = [dataset.vocab[w] if w in dataset.vocab else dataset.OUT_OF_VOCAB_IDX for w in s]\n",
        "    return s"
      ]
    },
    {
      "cell_type": "code",
      "execution_count": 9,
      "metadata": {
        "colab": {
          "base_uri": "https://localhost:8080/"
        },
        "id": "ySJRkvoYylca",
        "outputId": "44c0f213-8c2c-4934-a42e-5bb81b2633e5"
      },
      "outputs": [
        {
          "output_type": "stream",
          "name": "stdout",
          "text": [
            "creating dataset...\n",
            "size of train 99565 and size of test 24892\n",
            "tensor([    1,     2,     6,   962,    59, 29198,     3,    31,   481,     6,\n",
            "          962,    52,    49, 10273,    30,     9,   184,   777,    25,   327]) tensor([40000, 40000, 40000, 40000, 40000, 40000, 40000, 40000, 40000, 40000,\n",
            "        40000, 40000, 40000, 40000, 40000, 40000, 40000, 40000, 40000, 40000])\n"
          ]
        }
      ],
      "source": [
        "# create dataset and train/test data\n",
        "print('creating dataset...')\n",
        "dataset = SentenceDataset(sentences, vocab, seq_len)\n",
        "\n",
        "train_size = int(0.8 * len(dataset))\n",
        "test_size = len(dataset) - train_size\n",
        "print(f\"size of train {train_size} and size of test {test_size}\")\n",
        "\n",
        "#dataloader = torch.utils.data.DataLoader(dataset,shuffle=True, drop_last=True, pin_memory=False, batch_size=batch_size)\n",
        "train_data, test_data = torch.utils.data.random_split(dataset, [train_size, test_size])\n",
        "\n",
        "train_dataloader = torch.utils.data.DataLoader(train_data,batch_size = batch_size,\n",
        "                              shuffle=True,num_workers=2,\n",
        "                              pin_memory=True)\n",
        "test_dataloader = torch.utils.data.DataLoader(test_data,batch_size = batch_size,\n",
        "                              shuffle=False,num_workers=2,\n",
        "                              pin_memory=True)\n",
        "\n",
        "\n",
        "# sample sentence\n",
        "batch_output = next(iter(train_dataloader))\n",
        "input_sentence, input_label = batch_output['input'][0], batch_output['target'][0]\n",
        "print(input_sentence, input_label)"
      ]
    },
    {
      "cell_type": "code",
      "execution_count": 10,
      "metadata": {
        "colab": {
          "base_uri": "https://localhost:8080/"
        },
        "id": "Q3MH6sUCyqQd",
        "outputId": "6ebdeb56-b70c-41d0-ca0a-6aba1f284d78"
      },
      "outputs": [
        {
          "output_type": "execute_result",
          "data": {
            "text/plain": [
              "============================================================================================================================================\n",
              "Layer (type (var_name))                                      Input Shape          Output Shape         Param #              Trainable\n",
              "============================================================================================================================================\n",
              "Bert (Bert)                                                  [32, 20]             [32, 20, 40003]      2,560                True\n",
              "├─Embedding (embeddings)                                     [32, 20]             [32, 20, 128]        5,120,384            True\n",
              "├─Dropout (embedding_dropout)                                [32, 20, 128]        [32, 20, 128]        --                   --\n",
              "├─Sequential (transformer_encoder)                           [32, 20, 128]        [32, 20, 128]        --                   True\n",
              "│    └─TransformerEncoderBlock (0)                           [32, 20, 128]        [32, 20, 128]        --                   True\n",
              "│    │    └─MultiHeadAttentionBlock (msa_block)              [32, 20, 128]        [32, 20, 128]        66,304               True\n",
              "│    │    └─MLPBlock (mlp_block)                             [32, 20, 128]        [32, 20, 128]        131,968              True\n",
              "│    └─TransformerEncoderBlock (1)                           [32, 20, 128]        [32, 20, 128]        --                   True\n",
              "│    │    └─MultiHeadAttentionBlock (msa_block)              [32, 20, 128]        [32, 20, 128]        66,304               True\n",
              "│    │    └─MLPBlock (mlp_block)                             [32, 20, 128]        [32, 20, 128]        131,968              True\n",
              "│    └─TransformerEncoderBlock (2)                           [32, 20, 128]        [32, 20, 128]        --                   True\n",
              "│    │    └─MultiHeadAttentionBlock (msa_block)              [32, 20, 128]        [32, 20, 128]        66,304               True\n",
              "│    │    └─MLPBlock (mlp_block)                             [32, 20, 128]        [32, 20, 128]        131,968              True\n",
              "│    └─TransformerEncoderBlock (3)                           [32, 20, 128]        [32, 20, 128]        --                   True\n",
              "│    │    └─MultiHeadAttentionBlock (msa_block)              [32, 20, 128]        [32, 20, 128]        66,304               True\n",
              "│    │    └─MLPBlock (mlp_block)                             [32, 20, 128]        [32, 20, 128]        131,968              True\n",
              "│    └─TransformerEncoderBlock (4)                           [32, 20, 128]        [32, 20, 128]        --                   True\n",
              "│    │    └─MultiHeadAttentionBlock (msa_block)              [32, 20, 128]        [32, 20, 128]        66,304               True\n",
              "│    │    └─MLPBlock (mlp_block)                             [32, 20, 128]        [32, 20, 128]        131,968              True\n",
              "│    └─TransformerEncoderBlock (5)                           [32, 20, 128]        [32, 20, 128]        --                   True\n",
              "│    │    └─MultiHeadAttentionBlock (msa_block)              [32, 20, 128]        [32, 20, 128]        66,304               True\n",
              "│    │    └─MLPBlock (mlp_block)                             [32, 20, 128]        [32, 20, 128]        131,968              True\n",
              "│    └─TransformerEncoderBlock (6)                           [32, 20, 128]        [32, 20, 128]        --                   True\n",
              "│    │    └─MultiHeadAttentionBlock (msa_block)              [32, 20, 128]        [32, 20, 128]        66,304               True\n",
              "│    │    └─MLPBlock (mlp_block)                             [32, 20, 128]        [32, 20, 128]        131,968              True\n",
              "│    └─TransformerEncoderBlock (7)                           [32, 20, 128]        [32, 20, 128]        --                   True\n",
              "│    │    └─MultiHeadAttentionBlock (msa_block)              [32, 20, 128]        [32, 20, 128]        66,304               True\n",
              "│    │    └─MLPBlock (mlp_block)                             [32, 20, 128]        [32, 20, 128]        131,968              True\n",
              "├─Sequential (output_embedding)                              [32, 20, 128]        [32, 20, 40003]      --                   True\n",
              "│    └─LayerNorm (0)                                         [32, 20, 128]        [32, 20, 128]        256                  True\n",
              "│    └─Linear (1)                                            [32, 20, 128]        [32, 20, 40003]      5,120,384            True\n",
              "============================================================================================================================================\n",
              "Total params: 11,829,760\n",
              "Trainable params: 11,829,760\n",
              "Non-trainable params: 0\n",
              "Total mult-adds (M): 361.56\n",
              "============================================================================================================================================\n",
              "Input size (MB): 0.00\n",
              "Forward/backward pass size (MB): 242.83\n",
              "Params size (MB): 45.20\n",
              "Estimated Total Size (MB): 288.02\n",
              "============================================================================================================================================"
            ]
          },
          "metadata": {},
          "execution_count": 10
        }
      ],
      "source": [
        "bert_model = transformer.Bert(n_embeddings = len(dataset.vocab))\n",
        "bert_model.to(device)\n",
        "optimizer = torch.optim.Adam(params = bert_model.parameters(),lr=1e-4,betas=(0.9,0.999),\n",
        "                             weight_decay=1e-4)\n",
        "loss_fn = torch.nn.CrossEntropyLoss(ignore_index=dataset.IGNORE_IDX)\n",
        "summary(model= bert_model, input_size=(32,20), dtypes = [torch.int32],col_names=[\"input_size\",\"output_size\",\"num_params\",\"trainable\"],\n",
        "        col_width=20,\n",
        "        row_settings=[\"var_names\"])"
      ]
    },
    {
      "cell_type": "code",
      "execution_count": 11,
      "metadata": {
        "colab": {
          "base_uri": "https://localhost:8080/",
          "height": 85,
          "referenced_widgets": [
            "c011e649557444748a99519e24f2b5bc",
            "d8bd175a55e44665817fdafbbcc52705",
            "bb309b36c24e49b1bc14da510edc04e7",
            "c7f13543541947d8adbf8313f2892a2d",
            "5775b076e7db4df0bfa9907873d5804c",
            "b304c41e856c4208a7f3db26f36b6d44",
            "1f7570756e874a6e836d9c67d8c434c8",
            "1098ec3088f44b559b6a6521f3faaaf6",
            "cfbc2619555e4fde81573465bb0e40ae",
            "deb8d7802bea40eca423b7be4e2b0507",
            "cebc461f500e40fc9136eb4ab7a77ebe"
          ]
        },
        "id": "DPHIDSFtytGe",
        "outputId": "96f422ed-9f47-449d-cfc7-5e05d2fe3d1d"
      },
      "outputs": [
        {
          "output_type": "display_data",
          "data": {
            "text/plain": [
              "  0%|          | 0/2 [00:00<?, ?it/s]"
            ],
            "application/vnd.jupyter.widget-view+json": {
              "version_major": 2,
              "version_minor": 0,
              "model_id": "c011e649557444748a99519e24f2b5bc"
            }
          },
          "metadata": {}
        },
        {
          "output_type": "stream",
          "name": "stdout",
          "text": [
            "Epoch: 1 | train_loss: 7.4742 | test_loss: 7.2325 | | Δw:, 4.327\n",
            "Epoch: 2 | train_loss: 7.1677 | test_loss: 7.0806 | | Δw:, 8.989\n"
          ]
        }
      ],
      "source": [
        "for epoch in tqdm(range(epochs)):\n",
        "\n",
        "  # train model\n",
        "  bert_model.train()\n",
        "  train_loss = 0\n",
        "\n",
        "  for batch_idx, batch_data in enumerate(train_dataloader):\n",
        "\n",
        "    #infer\n",
        "    masked_input  = batch_data['input']\n",
        "    masked_target = batch_data['target']\n",
        "\n",
        "    masked_input  = masked_input.to(device)\n",
        "    masked_target = masked_target.to(device)\n",
        "    output_pred = bert_model(masked_input)\n",
        "\n",
        "    # compute the cross entropy loss\n",
        "    output_v = output_pred.view(-1,output_pred.shape[-1])\n",
        "    target_v = masked_target.view(-1,1).squeeze()\n",
        "    loss = loss_fn(output_v, target_v)\n",
        "\n",
        "    train_loss += loss.item()\n",
        "\n",
        "    optimizer.zero_grad()\n",
        "    loss.backward()\n",
        "\n",
        "    optimizer.step()\n",
        "\n",
        "  train_loss = train_loss / len(train_dataloader)\n",
        "\n",
        "  # test model\n",
        "  bert_model.eval()\n",
        "  test_loss= 0\n",
        "\n",
        "  with torch.inference_mode():\n",
        "    for batch_idx, batch_data in enumerate(test_dataloader):\n",
        "      #infer\n",
        "      masked_input  = batch_data['input']\n",
        "      masked_target = batch_data['target']\n",
        "\n",
        "      masked_input  = masked_input.to(device)\n",
        "      masked_target = masked_target.to(device)\n",
        "      output_pred = bert_model(masked_input)\n",
        "\n",
        "      #compute the cross entropy loss\n",
        "      output_v = output_pred.view(-1,output_pred.shape[-1])\n",
        "      target_v = masked_target.view(-1,1).squeeze()\n",
        "      loss = loss_fn(output_v, target_v)\n",
        "\n",
        "      test_loss += loss.item()\n",
        "\n",
        "    test_loss = test_loss / len(test_dataloader)\n",
        "\n",
        "\n",
        "  print(\n",
        "          f\"Epoch: {epoch+1} | \"\n",
        "          f\"train_loss: {train_loss:.4f} | \"\n",
        "           f\"test_loss: {test_loss:.4f} | \"\n",
        "          f\"| Δw:, {round(bert_model.embeddings.weight.grad.abs().sum().item(),3)}\"\n",
        "\n",
        "  )"
      ]
    },
    {
      "cell_type": "code",
      "execution_count": 12,
      "metadata": {
        "id": "bdifNhm4y9ml"
      },
      "outputs": [],
      "source": [
        "def get_batch(loader,loader_iter):\n",
        "  try:\n",
        "        batch = next(loader_iter)\n",
        "  except StopIteration:\n",
        "      loader_iter = iter(loader)\n",
        "      batch = next(loader_iter)\n",
        "  return batch, loader_iter"
      ]
    },
    {
      "cell_type": "code",
      "source": [
        "batch_iter = iter(train_dataloader)\n",
        "bert_model.train()\n",
        "print_each = 10\n",
        "\n",
        "for it in range(n_iterations):\n",
        "  #get batch\n",
        "  batch_data, batch_iter = get_batch(train_dataloader, batch_iter)\n",
        "\n",
        "  masked_input  = batch_data['input']\n",
        "  masked_target = batch_data['target']\n",
        "\n",
        "  masked_input  = masked_input.to(device)\n",
        "  masked_target = masked_target.to(device)\n",
        "  output_pred   = bert_model(masked_input)\n",
        "\n",
        "  #compute the cross entropy loss\n",
        "  output_v = output_pred.view(-1,output_pred.shape[-1])\n",
        "  target_v = masked_target.view(-1,1).squeeze()\n",
        "  loss = loss_fn(output_v, target_v)\n",
        "\n",
        "  train_loss += loss.item()\n",
        "\n",
        "  optimizer.zero_grad()\n",
        "  loss.backward()\n",
        "\n",
        "  optimizer.step()\n",
        "\n",
        "  #print step\n",
        "  if it % print_each == 0:\n",
        "      print('it:', it,\n",
        "            ' | loss', np.round(loss.item(),2),\n",
        "            ' | Δw:', round(bert_model.embeddings.weight.grad.abs().sum().item(),3))"
      ],
      "metadata": {
        "colab": {
          "base_uri": "https://localhost:8080/"
        },
        "id": "Bm7xuTm4AbXe",
        "outputId": "54b304de-95b7-46ba-e301-d8686b46ad1d"
      },
      "execution_count": 13,
      "outputs": [
        {
          "output_type": "stream",
          "name": "stdout",
          "text": [
            "it: 0  | loss 7.19  | Δw: 8.666\n",
            "it: 10  | loss 6.81  | Δw: 9.914\n"
          ]
        }
      ]
    },
    {
      "cell_type": "code",
      "source": [],
      "metadata": {
        "id": "4siviH0sAdmI"
      },
      "execution_count": null,
      "outputs": []
    }
  ],
  "metadata": {
    "accelerator": "GPU",
    "colab": {
      "provenance": [],
      "authorship_tag": "ABX9TyMpPt9AVclMmCZi+k6/uwM7",
      "include_colab_link": true
    },
    "kernelspec": {
      "display_name": "Python 3",
      "name": "python3"
    },
    "language_info": {
      "name": "python"
    },
    "widgets": {
      "application/vnd.jupyter.widget-state+json": {
        "c011e649557444748a99519e24f2b5bc": {
          "model_module": "@jupyter-widgets/controls",
          "model_name": "HBoxModel",
          "model_module_version": "1.5.0",
          "state": {
            "_dom_classes": [],
            "_model_module": "@jupyter-widgets/controls",
            "_model_module_version": "1.5.0",
            "_model_name": "HBoxModel",
            "_view_count": null,
            "_view_module": "@jupyter-widgets/controls",
            "_view_module_version": "1.5.0",
            "_view_name": "HBoxView",
            "box_style": "",
            "children": [
              "IPY_MODEL_d8bd175a55e44665817fdafbbcc52705",
              "IPY_MODEL_bb309b36c24e49b1bc14da510edc04e7",
              "IPY_MODEL_c7f13543541947d8adbf8313f2892a2d"
            ],
            "layout": "IPY_MODEL_5775b076e7db4df0bfa9907873d5804c"
          }
        },
        "d8bd175a55e44665817fdafbbcc52705": {
          "model_module": "@jupyter-widgets/controls",
          "model_name": "HTMLModel",
          "model_module_version": "1.5.0",
          "state": {
            "_dom_classes": [],
            "_model_module": "@jupyter-widgets/controls",
            "_model_module_version": "1.5.0",
            "_model_name": "HTMLModel",
            "_view_count": null,
            "_view_module": "@jupyter-widgets/controls",
            "_view_module_version": "1.5.0",
            "_view_name": "HTMLView",
            "description": "",
            "description_tooltip": null,
            "layout": "IPY_MODEL_b304c41e856c4208a7f3db26f36b6d44",
            "placeholder": "​",
            "style": "IPY_MODEL_1f7570756e874a6e836d9c67d8c434c8",
            "value": "100%"
          }
        },
        "bb309b36c24e49b1bc14da510edc04e7": {
          "model_module": "@jupyter-widgets/controls",
          "model_name": "FloatProgressModel",
          "model_module_version": "1.5.0",
          "state": {
            "_dom_classes": [],
            "_model_module": "@jupyter-widgets/controls",
            "_model_module_version": "1.5.0",
            "_model_name": "FloatProgressModel",
            "_view_count": null,
            "_view_module": "@jupyter-widgets/controls",
            "_view_module_version": "1.5.0",
            "_view_name": "ProgressView",
            "bar_style": "success",
            "description": "",
            "description_tooltip": null,
            "layout": "IPY_MODEL_1098ec3088f44b559b6a6521f3faaaf6",
            "max": 2,
            "min": 0,
            "orientation": "horizontal",
            "style": "IPY_MODEL_cfbc2619555e4fde81573465bb0e40ae",
            "value": 2
          }
        },
        "c7f13543541947d8adbf8313f2892a2d": {
          "model_module": "@jupyter-widgets/controls",
          "model_name": "HTMLModel",
          "model_module_version": "1.5.0",
          "state": {
            "_dom_classes": [],
            "_model_module": "@jupyter-widgets/controls",
            "_model_module_version": "1.5.0",
            "_model_name": "HTMLModel",
            "_view_count": null,
            "_view_module": "@jupyter-widgets/controls",
            "_view_module_version": "1.5.0",
            "_view_name": "HTMLView",
            "description": "",
            "description_tooltip": null,
            "layout": "IPY_MODEL_deb8d7802bea40eca423b7be4e2b0507",
            "placeholder": "​",
            "style": "IPY_MODEL_cebc461f500e40fc9136eb4ab7a77ebe",
            "value": " 2/2 [06:10&lt;00:00, 185.07s/it]"
          }
        },
        "5775b076e7db4df0bfa9907873d5804c": {
          "model_module": "@jupyter-widgets/base",
          "model_name": "LayoutModel",
          "model_module_version": "1.2.0",
          "state": {
            "_model_module": "@jupyter-widgets/base",
            "_model_module_version": "1.2.0",
            "_model_name": "LayoutModel",
            "_view_count": null,
            "_view_module": "@jupyter-widgets/base",
            "_view_module_version": "1.2.0",
            "_view_name": "LayoutView",
            "align_content": null,
            "align_items": null,
            "align_self": null,
            "border": null,
            "bottom": null,
            "display": null,
            "flex": null,
            "flex_flow": null,
            "grid_area": null,
            "grid_auto_columns": null,
            "grid_auto_flow": null,
            "grid_auto_rows": null,
            "grid_column": null,
            "grid_gap": null,
            "grid_row": null,
            "grid_template_areas": null,
            "grid_template_columns": null,
            "grid_template_rows": null,
            "height": null,
            "justify_content": null,
            "justify_items": null,
            "left": null,
            "margin": null,
            "max_height": null,
            "max_width": null,
            "min_height": null,
            "min_width": null,
            "object_fit": null,
            "object_position": null,
            "order": null,
            "overflow": null,
            "overflow_x": null,
            "overflow_y": null,
            "padding": null,
            "right": null,
            "top": null,
            "visibility": null,
            "width": null
          }
        },
        "b304c41e856c4208a7f3db26f36b6d44": {
          "model_module": "@jupyter-widgets/base",
          "model_name": "LayoutModel",
          "model_module_version": "1.2.0",
          "state": {
            "_model_module": "@jupyter-widgets/base",
            "_model_module_version": "1.2.0",
            "_model_name": "LayoutModel",
            "_view_count": null,
            "_view_module": "@jupyter-widgets/base",
            "_view_module_version": "1.2.0",
            "_view_name": "LayoutView",
            "align_content": null,
            "align_items": null,
            "align_self": null,
            "border": null,
            "bottom": null,
            "display": null,
            "flex": null,
            "flex_flow": null,
            "grid_area": null,
            "grid_auto_columns": null,
            "grid_auto_flow": null,
            "grid_auto_rows": null,
            "grid_column": null,
            "grid_gap": null,
            "grid_row": null,
            "grid_template_areas": null,
            "grid_template_columns": null,
            "grid_template_rows": null,
            "height": null,
            "justify_content": null,
            "justify_items": null,
            "left": null,
            "margin": null,
            "max_height": null,
            "max_width": null,
            "min_height": null,
            "min_width": null,
            "object_fit": null,
            "object_position": null,
            "order": null,
            "overflow": null,
            "overflow_x": null,
            "overflow_y": null,
            "padding": null,
            "right": null,
            "top": null,
            "visibility": null,
            "width": null
          }
        },
        "1f7570756e874a6e836d9c67d8c434c8": {
          "model_module": "@jupyter-widgets/controls",
          "model_name": "DescriptionStyleModel",
          "model_module_version": "1.5.0",
          "state": {
            "_model_module": "@jupyter-widgets/controls",
            "_model_module_version": "1.5.0",
            "_model_name": "DescriptionStyleModel",
            "_view_count": null,
            "_view_module": "@jupyter-widgets/base",
            "_view_module_version": "1.2.0",
            "_view_name": "StyleView",
            "description_width": ""
          }
        },
        "1098ec3088f44b559b6a6521f3faaaf6": {
          "model_module": "@jupyter-widgets/base",
          "model_name": "LayoutModel",
          "model_module_version": "1.2.0",
          "state": {
            "_model_module": "@jupyter-widgets/base",
            "_model_module_version": "1.2.0",
            "_model_name": "LayoutModel",
            "_view_count": null,
            "_view_module": "@jupyter-widgets/base",
            "_view_module_version": "1.2.0",
            "_view_name": "LayoutView",
            "align_content": null,
            "align_items": null,
            "align_self": null,
            "border": null,
            "bottom": null,
            "display": null,
            "flex": null,
            "flex_flow": null,
            "grid_area": null,
            "grid_auto_columns": null,
            "grid_auto_flow": null,
            "grid_auto_rows": null,
            "grid_column": null,
            "grid_gap": null,
            "grid_row": null,
            "grid_template_areas": null,
            "grid_template_columns": null,
            "grid_template_rows": null,
            "height": null,
            "justify_content": null,
            "justify_items": null,
            "left": null,
            "margin": null,
            "max_height": null,
            "max_width": null,
            "min_height": null,
            "min_width": null,
            "object_fit": null,
            "object_position": null,
            "order": null,
            "overflow": null,
            "overflow_x": null,
            "overflow_y": null,
            "padding": null,
            "right": null,
            "top": null,
            "visibility": null,
            "width": null
          }
        },
        "cfbc2619555e4fde81573465bb0e40ae": {
          "model_module": "@jupyter-widgets/controls",
          "model_name": "ProgressStyleModel",
          "model_module_version": "1.5.0",
          "state": {
            "_model_module": "@jupyter-widgets/controls",
            "_model_module_version": "1.5.0",
            "_model_name": "ProgressStyleModel",
            "_view_count": null,
            "_view_module": "@jupyter-widgets/base",
            "_view_module_version": "1.2.0",
            "_view_name": "StyleView",
            "bar_color": null,
            "description_width": ""
          }
        },
        "deb8d7802bea40eca423b7be4e2b0507": {
          "model_module": "@jupyter-widgets/base",
          "model_name": "LayoutModel",
          "model_module_version": "1.2.0",
          "state": {
            "_model_module": "@jupyter-widgets/base",
            "_model_module_version": "1.2.0",
            "_model_name": "LayoutModel",
            "_view_count": null,
            "_view_module": "@jupyter-widgets/base",
            "_view_module_version": "1.2.0",
            "_view_name": "LayoutView",
            "align_content": null,
            "align_items": null,
            "align_self": null,
            "border": null,
            "bottom": null,
            "display": null,
            "flex": null,
            "flex_flow": null,
            "grid_area": null,
            "grid_auto_columns": null,
            "grid_auto_flow": null,
            "grid_auto_rows": null,
            "grid_column": null,
            "grid_gap": null,
            "grid_row": null,
            "grid_template_areas": null,
            "grid_template_columns": null,
            "grid_template_rows": null,
            "height": null,
            "justify_content": null,
            "justify_items": null,
            "left": null,
            "margin": null,
            "max_height": null,
            "max_width": null,
            "min_height": null,
            "min_width": null,
            "object_fit": null,
            "object_position": null,
            "order": null,
            "overflow": null,
            "overflow_x": null,
            "overflow_y": null,
            "padding": null,
            "right": null,
            "top": null,
            "visibility": null,
            "width": null
          }
        },
        "cebc461f500e40fc9136eb4ab7a77ebe": {
          "model_module": "@jupyter-widgets/controls",
          "model_name": "DescriptionStyleModel",
          "model_module_version": "1.5.0",
          "state": {
            "_model_module": "@jupyter-widgets/controls",
            "_model_module_version": "1.5.0",
            "_model_name": "DescriptionStyleModel",
            "_view_count": null,
            "_view_module": "@jupyter-widgets/base",
            "_view_module_version": "1.2.0",
            "_view_name": "StyleView",
            "description_width": ""
          }
        }
      }
    }
  },
  "nbformat": 4,
  "nbformat_minor": 0
}